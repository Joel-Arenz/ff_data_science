{
 "cells": [
  {
   "cell_type": "markdown",
   "metadata": {},
   "source": [
    "## Preprocessing"
   ]
  },
  {
   "cell_type": "markdown",
   "metadata": {},
   "source": [
    "### Import Libraries"
   ]
  },
  {
   "cell_type": "code",
   "execution_count": 9,
   "metadata": {},
   "outputs": [],
   "source": [
    "# data\n",
    "import nfl_data_py as nfl\n",
    "\n",
    "# data loading and plotting\n",
    "import pandas as pd\n",
    "import numpy as np\n",
    "\n",
    "# pipeline\n",
    "from sklearn.model_selection import train_test_split, TimeSeriesSplit, GridSearchCV\n",
    "from sklearn.feature_selection import RFECV, RFE\n",
    "from sklearn.impute import SimpleImputer, KNNImputer\n",
    "from sklearn.preprocessing import OneHotEncoder, StandardScaler, LabelEncoder, OrdinalEncoder\n",
    "from sklearn.pipeline import Pipeline\n",
    "from sklearn.compose import ColumnTransformer\n",
    "from sklearn.metrics import mean_absolute_error, mean_squared_error, root_mean_squared_error, r2_score, confusion_matrix, accuracy_score, precision_score, recall_score, f1_score, roc_auc_score, nan_euclidean_distances"
   ]
  },
  {
   "cell_type": "markdown",
   "metadata": {},
   "source": [
    "### Import Data"
   ]
  },
  {
   "cell_type": "code",
   "execution_count": 10,
   "metadata": {},
   "outputs": [
    {
     "name": "stdout",
     "output_type": "stream",
     "text": [
      "Downcasting floats.\n"
     ]
    }
   ],
   "source": [
    "df_ids = nfl.import_ids()\n",
    "df_weekly = nfl.import_weekly_data(range(2018, 2025))\n",
    "# TODO @Simon du importierst aktuell noch 2017 bis 2023\n",
    "# TODO @Simon für years kannst du entweder list oder range übergeben, du musst nicht erst noch auf list converten\n",
    "df_seasonal = nfl.import_seasonal_data(range(2018,2025))\n",
    "df_schedule = nfl.import_schedules(range(2018, 2025))\n",
    "df_pass_pfr = nfl.import_weekly_pfr('pass', range(2018, 2025))\n",
    "df_rush_pfr = nfl.import_weekly_pfr('rush', range(2018, 2025))\n",
    "df_rec_pfr = nfl.import_weekly_pfr('rec', range(2018, 2025))\n",
    "df_pass_ngs = nfl.import_ngs_data('passing',range(2018, 2025))\n",
    "df_rush_ngs = nfl.import_ngs_data('rushing',range(2018, 2025))\n",
    "df_rec_ngs = nfl.import_ngs_data('receiving',range(2018, 2025))\n",
    "df_snap_counts = nfl.import_snap_counts(range(2018, 2025))"
   ]
  },
  {
   "cell_type": "markdown",
   "metadata": {},
   "source": [
    "### Alter Data"
   ]
  },
  {
   "cell_type": "code",
   "execution_count": 21,
   "metadata": {},
   "outputs": [],
   "source": [
    "# \n",
    "df_weekly = df_weekly[(df_weekly['season_type'] == 'REG') & (df_weekly['position'].isin(['QB', 'WR', 'RB', 'TE']))]\n",
    "\n",
    "# \n",
    "df_weekly['game_id_home_away'] = df_weekly['season'].astype(str) + '_' + df_weekly['week'].apply(lambda x: f\"{x:02d}\")+'_'+df_weekly['recent_team']+'_'+df_weekly['opponent_team']\n",
    "df_weekly['game_id_away_home'] = df_weekly['season'].astype(str) + '_' + df_weekly['week'].apply(lambda x: f\"{x:02d}\")+'_'+df_weekly['opponent_team']+'_'+df_weekly['recent_team']\n",
    "\n",
    "# Rename player_id's to later merge using the consistent player_id\n",
    "df_ids = df_ids.rename(columns={'gsis_id': 'player_id', 'pfr_id': 'pfr_player_id'})\n",
    "df_pass_ngs = df_pass_ngs.rename(columns={'player_gsis_id': 'player_id'})\n",
    "df_rush_ngs = df_rush_ngs.rename(columns={'player_gsis_id': 'player_id'})\n",
    "df_rec_ngs = df_rec_ngs.rename(columns={'player_gsis_id': 'player_id'})\n",
    "\n",
    "# TODO @Simon was machst du hier?\n",
    "df_merged = pd.melt(\n",
    "    df_weekly,\n",
    "    id_vars=['player_id', 'position', 'season', 'week', 'recent_team', 'opponent_team', 'completions', 'attempts', 'passing_yards', 'passing_tds', 'passing_2pt_conversions', 'interceptions', 'sack_fumbles_lost', 'sacks', 'sack_yards', 'passing_air_yards', 'passing_epa', 'pacr', 'carries', 'rushing_yards', 'rushing_tds', 'rushing_2pt_conversions', 'rushing_fumbles_lost', 'rushing_epa', 'receptions', 'targets', 'receiving_yards', 'receiving_tds', 'receiving_2pt_conversions', 'receiving_fumbles_lost', 'racr', 'wopr', 'receiving_epa', 'fantasy_points'],\n",
    "    value_vars=['game_id_home_away', 'game_id_away_home'],\n",
    "    var_name='game_id_type',\n",
    "    value_name='game_id'\n",
    ")"
   ]
  },
  {
   "cell_type": "code",
   "execution_count": 12,
   "metadata": {},
   "outputs": [
    {
     "name": "stdout",
     "output_type": "stream",
     "text": [
      "<class 'pandas.core.frame.DataFrame'>\n",
      "RangeIndex: 71814 entries, 0 to 71813\n",
      "Data columns (total 36 columns):\n",
      " #   Column                     Non-Null Count  Dtype  \n",
      "---  ------                     --------------  -----  \n",
      " 0   player_id                  71814 non-null  object \n",
      " 1   position                   71814 non-null  object \n",
      " 2   season                     71814 non-null  int32  \n",
      " 3   week                       71814 non-null  int32  \n",
      " 4   recent_team                71814 non-null  object \n",
      " 5   opponent_team              71814 non-null  object \n",
      " 6   completions                71814 non-null  int32  \n",
      " 7   attempts                   71814 non-null  int32  \n",
      " 8   passing_yards              71814 non-null  float32\n",
      " 9   passing_tds                71814 non-null  int32  \n",
      " 10  passing_2pt_conversions    71814 non-null  int32  \n",
      " 11  interceptions              71814 non-null  float32\n",
      " 12  sack_fumbles_lost          71814 non-null  int32  \n",
      " 13  sacks                      71814 non-null  float32\n",
      " 14  sack_yards                 71814 non-null  float32\n",
      " 15  passing_air_yards          71814 non-null  float32\n",
      " 16  passing_epa                9032 non-null   float32\n",
      " 17  pacr                       8906 non-null   float32\n",
      " 18  carries                    71814 non-null  int32  \n",
      " 19  rushing_yards              71814 non-null  float32\n",
      " 20  rushing_tds                71814 non-null  int32  \n",
      " 21  rushing_2pt_conversions    71814 non-null  int32  \n",
      " 22  rushing_fumbles_lost       71814 non-null  float32\n",
      " 23  rushing_epa                30116 non-null  float32\n",
      " 24  receptions                 71814 non-null  int32  \n",
      " 25  targets                    71814 non-null  int32  \n",
      " 26  receiving_yards            71814 non-null  float32\n",
      " 27  receiving_tds              71814 non-null  int32  \n",
      " 28  receiving_2pt_conversions  71814 non-null  int32  \n",
      " 29  receiving_fumbles_lost     71814 non-null  float32\n",
      " 30  racr                       58016 non-null  float32\n",
      " 31  wopr                       58388 non-null  float32\n",
      " 32  receiving_epa              58388 non-null  float32\n",
      " 33  fantasy_points             71814 non-null  float32\n",
      " 34  game_id_type               71814 non-null  object \n",
      " 35  game_id                    71814 non-null  object \n",
      "dtypes: float32(16), int32(14), object(6)\n",
      "memory usage: 11.5+ MB\n"
     ]
    }
   ],
   "source": [
    "df_merged.info()"
   ]
  },
  {
   "cell_type": "markdown",
   "metadata": {},
   "source": [
    "### Merge Data"
   ]
  },
  {
   "cell_type": "code",
   "execution_count": 22,
   "metadata": {},
   "outputs": [],
   "source": [
    "df_merged = pd.merge(df_merged, df_ids[['player_id', 'pfr_player_id', 'draft_pick', 'draft_year']], on = 'player_id', how = 'inner')\n",
    "df_merged = pd.merge(df_merged, df_seasonal[['player_id', 'season', 'dom']], on = ['player_id', 'season'], how = 'left')\n",
    "df_merged = pd.merge(df_merged, df_schedule[['game_id', 'home_team']], on='game_id', how='inner')\n",
    "df_merged = pd.merge(df_merged, df_pass_pfr[['pfr_player_id', 'season', 'week', 'passing_bad_throws', 'times_pressured']], on = ['pfr_player_id', 'season', 'week'], how = 'left')\n",
    "df_merged = pd.merge(df_merged, df_rec_pfr[['pfr_player_id', 'season', 'week', 'receiving_rat']], on = ['pfr_player_id', 'season', 'week'], how = 'left')\n",
    "df_merged = pd.merge(df_merged, df_rush_pfr[['pfr_player_id', 'season', 'week', 'rushing_broken_tackles']], on = ['pfr_player_id', 'season', 'week'], how = 'left')\n",
    "df_merged = pd.merge(df_merged, df_pass_ngs[['player_id', 'season', 'week', 'passer_rating', 'aggressiveness']], on = ['player_id', 'season', 'week'], how = 'left')\n",
    "df_merged = pd.merge(df_merged, df_rec_ngs[['player_id', 'season', 'week', 'catch_percentage']], on = ['player_id', 'season', 'week'], how = 'left')\n",
    "df_merged = pd.merge(df_merged, df_rush_ngs[['player_id', 'season', 'week', 'efficiency']], on = ['player_id', 'season', 'week'], how = 'left')\n",
    "df_merged = pd.merge(df_merged, df_snap_counts[['pfr_player_id', 'season', 'week', 'offense_snaps']], on = ['pfr_player_id', 'season', 'week'], how = 'left')\n",
    "\n",
    "df_merged = df_merged.drop(columns=['game_id', 'game_id_type', 'pfr_player_id'])"
   ]
  },
  {
   "cell_type": "code",
   "execution_count": 23,
   "metadata": {},
   "outputs": [],
   "source": [
    "df_merged = df_merged.fillna(0)\n",
    "\n",
    "df_merged['rookie_flag'] = (df_merged['season'] == df_merged['draft_year']).astype(int)\n",
    "df_merged['last_season_data_flag'] = (df_merged['week'] < 6).astype(int)\n",
    "\n",
    "recent_team_means = df_merged.groupby(['recent_team', 'season', 'week'])['fantasy_points'].mean().reset_index()\n",
    "opponent_team_means = df_merged.groupby(['opponent_team', 'season', 'week'])['fantasy_points'].mean().reset_index()\n",
    "position_means = df_merged.groupby(['position', 'season', 'week'])['fantasy_points'].mean().reset_index()\n",
    "\n",
    "# TODO @Simon wieso benennst du die Spalten um?\n",
    "recent_team_means.rename(columns={'fantasy_points': 'recent_team_encoded'}, inplace=True)\n",
    "opponent_team_means.rename(columns={'fantasy_points': 'opponent_team_encoded'}, inplace=True)\n",
    "position_means.rename(columns={'fantasy_points': 'position_encoded'}, inplace=True)\n",
    "\n",
    "df_merged = pd.merge(df_merged, recent_team_means, on=['recent_team', 'season', 'week'], how='left')\n",
    "df_merged = pd.merge(df_merged, opponent_team_means, on=['opponent_team', 'season', 'week'], how='left')\n",
    "df_merged = pd.merge(df_merged, position_means, on=['position', 'season', 'week'], how='left')\n",
    "\n",
    "# TODO turnover sind die Zahl der turnover, wohingegen rushing_pts, recieving_pts und passing_pts quantifiziert sind. tunrover müsste man dann auch mal 2 nehmen oder?\n",
    "df_merged['turnover'] = (\n",
    "    df_merged['interceptions'] +\n",
    "    df_merged['sack_fumbles_lost'] +\n",
    "    df_merged['rushing_fumbles_lost'] +\n",
    "    df_merged['receiving_fumbles_lost']\n",
    ")\n",
    "\n",
    "# calculating fantasy points scored by category\n",
    "df_merged['rushing_pts'] = (df_merged['rushing_tds'] * 6) + (df_merged['rushing_2pt_conversions'] * 2)\n",
    "df_merged['receiving_pts'] = (df_merged['receiving_tds'] * 6) + (df_merged['receiving_2pt_conversions'] * 2)\n",
    "df_merged['passing_pts'] = (df_merged['passing_tds'] * 6) + (df_merged['passing_2pt_conversions'] * 2)\n",
    "\n",
    "# TODO @Simon nicht wirklich EPA (EPA = Expected Points Added in Relation zu dem jeweiligen Spielzug), das hier sind eher die ganzen Punkte die erzielt wurden\n",
    "df_merged['epa_total'] = df_merged['passing_epa'] + df_merged['rushing_epa'] + df_merged['receiving_epa']\n",
    "\n",
    "# Dropping features that were integrated into other features above\n",
    "df_merged = df_merged.drop(columns=['draft_year', 'interceptions', 'sack_fumbles_lost', 'rushing_fumbles_lost', 'receiving_fumbles_lost', \n",
    "                                    'rushing_tds', 'rushing_2pt_conversions', 'receiving_tds', 'receiving_2pt_conversions', 'passing_tds', \n",
    "                                    'passing_2pt_conversions', 'passing_epa', 'rushing_epa', 'receiving_epa'])\n",
    "\n",
    "# features for whom rolling features should be created\n",
    "columns_to_roll = ['completions', 'attempts', 'passing_yards', 'sacks', 'passer_rating', 'aggressiveness', 'catch_percentage', 'efficiency',\n",
    "                   'sack_yards', 'passing_air_yards', 'pacr', 'carries', 'offense_snaps', 'recent_team_encoded', 'opponent_team_encoded', \n",
    "                   'rushing_yards', 'receptions', 'targets', 'receiving_yards', 'racr', 'wopr', 'fantasy_points', 'passing_bad_throws', \n",
    "                   'times_pressured', 'position_encoded', 'epa_total', 'receiving_rat', 'rushing_broken_tackles', 'turnover', 'rushing_pts', \n",
    "                   'receiving_pts', 'passing_pts']"
   ]
  },
  {
   "cell_type": "code",
   "execution_count": 24,
   "metadata": {},
   "outputs": [],
   "source": [
    "def create_rolling_features(df, columns_to_roll):\n",
    "    # Sort dataframe\n",
    "    df = df.sort_values(['player_id', 'season', 'week']).reset_index(drop=True)\n",
    "    \n",
    "    # Create empty dictionary to store all new features\n",
    "    new_features = {}\n",
    "    \n",
    "    for col in columns_to_roll:\n",
    "        # 5-week window stats\n",
    "        grouped = df.groupby('player_id')[col].shift(1)\n",
    "        \n",
    "        new_features[f'ewm_{col}_l5w'] = (grouped\n",
    "            .ewm(span=5, min_periods=5)\n",
    "            .mean())\n",
    "        \n",
    "        for metric in ['mean', 'median', 'std']:\n",
    "            new_features[f'{metric}_{col}_l5w'] = (grouped\n",
    "                .rolling(window=5, min_periods=5)\n",
    "                .agg(metric))\n",
    "        \n",
    "        # 3-week window stats\n",
    "        for metric in ['max', 'min']:\n",
    "            new_features[f'{metric}_{col}_l3w'] = (grouped\n",
    "                .rolling(window=3, min_periods=3)\n",
    "                .agg(metric))\n",
    "    \n",
    "    # Add fantasy points feature\n",
    "    new_features['cnt_games_over_20ffpts_l5w'] = (\n",
    "        df.groupby('player_id')['fantasy_points']\n",
    "        .shift(1)\n",
    "        .rolling(window=5, min_periods=5)\n",
    "        .apply(lambda x: (x > 20).sum())\n",
    "    )\n",
    "    \n",
    "    # Combine all new features at once\n",
    "    feature_df = pd.DataFrame(new_features)\n",
    "    \n",
    "    # Combine with original dataframe\n",
    "    return pd.concat([df, feature_df], axis=1)"
   ]
  },
  {
   "cell_type": "code",
   "execution_count": null,
   "metadata": {},
   "outputs": [],
   "source": [
    "# Anwendung auf df_merged\n",
    "df_merged = create_rolling_features(df_merged, columns_to_roll)"
   ]
  },
  {
   "cell_type": "code",
   "execution_count": 26,
   "metadata": {},
   "outputs": [],
   "source": [
    "df_merged = df_merged.dropna()\n",
    "\n",
    "df_merged = df_merged.drop(columns=['completions', 'attempts', 'passing_yards', 'sacks', 'sack_yards', 'passing_air_yards',  \n",
    "                                    'pacr', 'carries', 'rushing_yards', 'receptions', 'targets', 'receiving_yards', 'racr', \n",
    "                                    'wopr', 'passing_bad_throws', 'times_pressured', 'receiving_rat', 'rushing_broken_tackles', 'turnover', \n",
    "                                    'rushing_pts', 'receiving_pts', 'passing_pts', 'home_team', 'passer_rating', 'aggressiveness',\n",
    "                                    'catch_percentage', 'efficiency', 'offense_snaps', 'recent_team_encoded', 'opponent_team_encoded', \n",
    "                                    'position_encoded', 'recent_team', 'opponent_team', 'position', 'epa_total'])"
   ]
  }
 ],
 "metadata": {
  "kernelspec": {
   "display_name": ".venv",
   "language": "python",
   "name": "python3"
  },
  "language_info": {
   "codemirror_mode": {
    "name": "ipython",
    "version": 3
   },
   "file_extension": ".py",
   "mimetype": "text/x-python",
   "name": "python",
   "nbconvert_exporter": "python",
   "pygments_lexer": "ipython3",
   "version": "3.12.6"
  }
 },
 "nbformat": 4,
 "nbformat_minor": 2
}
